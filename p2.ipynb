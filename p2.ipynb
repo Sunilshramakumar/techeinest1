{
 "cells": [
  {
   "cell_type": "code",
   "execution_count": 1,
   "id": "33fd8c31",
   "metadata": {},
   "outputs": [
    {
     "data": {
      "text/plain": [
       "25"
      ]
     },
     "execution_count": 1,
     "metadata": {},
     "output_type": "execute_result"
    }
   ],
   "source": [
    "x1=5\n",
    "x2=2\n",
    "x3=x1**x2\n",
    "x3"
   ]
  },
  {
   "cell_type": "code",
   "execution_count": 2,
   "id": "4208c0ee",
   "metadata": {},
   "outputs": [
    {
     "data": {
      "text/plain": [
       "2.5"
      ]
     },
     "execution_count": 2,
     "metadata": {},
     "output_type": "execute_result"
    }
   ],
   "source": [
    "x1/x2\n"
   ]
  },
  {
   "cell_type": "code",
   "execution_count": 3,
   "id": "f5ae29e5",
   "metadata": {},
   "outputs": [
    {
     "data": {
      "text/plain": [
       "2"
      ]
     },
     "execution_count": 3,
     "metadata": {},
     "output_type": "execute_result"
    }
   ],
   "source": [
    "x1//x2"
   ]
  },
  {
   "cell_type": "code",
   "execution_count": 4,
   "id": "d06c7c09",
   "metadata": {},
   "outputs": [
    {
     "data": {
      "text/plain": [
       "['dsund', 'sfdafsd', 56, 20]"
      ]
     },
     "execution_count": 4,
     "metadata": {},
     "output_type": "execute_result"
    }
   ],
   "source": [
    "lst=['dsund','sfdafsd',56,20]\n",
    "lst"
   ]
  },
  {
   "cell_type": "code",
   "execution_count": 7,
   "id": "3df7c7c7",
   "metadata": {},
   "outputs": [],
   "source": [
    "sd='anat','alak nanda','rameshcveram',566"
   ]
  },
  {
   "cell_type": "code",
   "execution_count": 8,
   "id": "80967efd",
   "metadata": {},
   "outputs": [
    {
     "data": {
      "text/plain": [
       "tuple"
      ]
     },
     "execution_count": 8,
     "metadata": {},
     "output_type": "execute_result"
    }
   ],
   "source": [
    "type(sd)"
   ]
  },
  {
   "cell_type": "code",
   "execution_count": 9,
   "id": "ad8c33d2",
   "metadata": {},
   "outputs": [
    {
     "data": {
      "text/plain": [
       "('anat', 'alak nanda', 'rameshcveram', 566)"
      ]
     },
     "execution_count": 9,
     "metadata": {},
     "output_type": "execute_result"
    }
   ],
   "source": [
    "sd"
   ]
  },
  {
   "cell_type": "code",
   "execution_count": 10,
   "id": "a9d3bf62",
   "metadata": {},
   "outputs": [
    {
     "data": {
      "text/plain": [
       "'alak nanda'"
      ]
     },
     "execution_count": 10,
     "metadata": {},
     "output_type": "execute_result"
    }
   ],
   "source": [
    "sd[1]"
   ]
  },
  {
   "cell_type": "code",
   "execution_count": 13,
   "id": "d3405a41",
   "metadata": {},
   "outputs": [
    {
     "ename": "AttributeError",
     "evalue": "'tuple' object has no attribute 'append'",
     "output_type": "error",
     "traceback": [
      "\u001b[1;31m---------------------------------------------------------------------------\u001b[0m",
      "\u001b[1;31mAttributeError\u001b[0m                            Traceback (most recent call last)",
      "\u001b[1;32m<ipython-input-13-82686f3d41b5>\u001b[0m in \u001b[0;36m<module>\u001b[1;34m\u001b[0m\n\u001b[1;32m----> 1\u001b[1;33m \u001b[0msd\u001b[0m\u001b[1;33m.\u001b[0m\u001b[0mappend\u001b[0m\u001b[1;33m[\u001b[0m\u001b[1;36m5\u001b[0m\u001b[1;33m]\u001b[0m\u001b[1;33m=\u001b[0m\u001b[1;34m'jnnanda'\u001b[0m\u001b[1;33m\u001b[0m\u001b[1;33m\u001b[0m\u001b[0m\n\u001b[0m",
      "\u001b[1;31mAttributeError\u001b[0m: 'tuple' object has no attribute 'append'"
     ]
    }
   ],
   "source": [
    "sd.append[]='jnnanda'"
   ]
  },
  {
   "cell_type": "code",
   "execution_count": 18,
   "id": "6f303583",
   "metadata": {},
   "outputs": [
    {
     "data": {
      "text/plain": [
       "{4, 5, 6, 54, 64, 556}"
      ]
     },
     "execution_count": 18,
     "metadata": {},
     "output_type": "execute_result"
    }
   ],
   "source": [
    "set1 ={5,4,62,12,5,5}\n",
    "set2={54,64,6,5,6,6,556,4,5}\n",
    "set.union(set2)"
   ]
  },
  {
   "cell_type": "code",
   "execution_count": 19,
   "id": "ae2035b5",
   "metadata": {},
   "outputs": [
    {
     "data": {
      "text/plain": [
       "{4, 5}"
      ]
     },
     "execution_count": 19,
     "metadata": {},
     "output_type": "execute_result"
    }
   ],
   "source": [
    "set1.intersection(set2)"
   ]
  },
  {
   "cell_type": "code",
   "execution_count": 21,
   "id": "d4c802ea",
   "metadata": {},
   "outputs": [
    {
     "data": {
      "text/plain": [
       "{4, 5, 6, 12, 56, 62, 65, 565, 5656, 6556}"
      ]
     },
     "execution_count": 21,
     "metadata": {},
     "output_type": "execute_result"
    }
   ],
   "source": [
    "set1.update([565,6556,65,5656,6,6,56,56,56,565,65,6])\n",
    "set1"
   ]
  },
  {
   "cell_type": "code",
   "execution_count": 22,
   "id": "dbcf59d8",
   "metadata": {},
   "outputs": [],
   "source": [
    "import array as ar"
   ]
  },
  {
   "cell_type": "code",
   "execution_count": 24,
   "id": "ff2fa7cd",
   "metadata": {},
   "outputs": [],
   "source": [
    "ar.array1=51,5,5,4641,544,24,"
   ]
  },
  {
   "cell_type": "code",
   "execution_count": 26,
   "id": "16f2a468",
   "metadata": {},
   "outputs": [
    {
     "data": {
      "text/plain": [
       "tuple"
      ]
     },
     "execution_count": 26,
     "metadata": {},
     "output_type": "execute_result"
    }
   ],
   "source": [
    "type(ar.array1)"
   ]
  },
  {
   "cell_type": "code",
   "execution_count": 27,
   "id": "206f8910",
   "metadata": {},
   "outputs": [
    {
     "data": {
      "text/plain": [
       "module"
      ]
     },
     "execution_count": 27,
     "metadata": {},
     "output_type": "execute_result"
    }
   ],
   "source": [
    "type(ar)"
   ]
  },
  {
   "cell_type": "code",
   "execution_count": 39,
   "id": "837988e3",
   "metadata": {},
   "outputs": [],
   "source": [
    "aa=ar.array('f',[5,6,322.2,2,1,532,1,23])"
   ]
  },
  {
   "cell_type": "code",
   "execution_count": 40,
   "id": "834e469a",
   "metadata": {},
   "outputs": [
    {
     "data": {
      "text/plain": [
       "array.array"
      ]
     },
     "execution_count": 40,
     "metadata": {},
     "output_type": "execute_result"
    }
   ],
   "source": [
    "type(aa)"
   ]
  },
  {
   "cell_type": "code",
   "execution_count": 41,
   "id": "66a0ede0",
   "metadata": {},
   "outputs": [
    {
     "name": "stdout",
     "output_type": "stream",
     "text": [
      "array('f', [5.0, 6.0, 322.20001220703125, 2.0, 1.0, 532.0, 1.0, 23.0])\n"
     ]
    }
   ],
   "source": [
    "print(aa)"
   ]
  },
  {
   "cell_type": "code",
   "execution_count": 42,
   "id": "70ed42eb",
   "metadata": {},
   "outputs": [
    {
     "ename": "AttributeError",
     "evalue": "'array.array' object has no attribute 'add'",
     "output_type": "error",
     "traceback": [
      "\u001b[1;31m---------------------------------------------------------------------------\u001b[0m",
      "\u001b[1;31mAttributeError\u001b[0m                            Traceback (most recent call last)",
      "\u001b[1;32m<ipython-input-42-280e52771f3f>\u001b[0m in \u001b[0;36m<module>\u001b[1;34m\u001b[0m\n\u001b[1;32m----> 1\u001b[1;33m \u001b[0maa\u001b[0m\u001b[1;33m.\u001b[0m\u001b[0madd\u001b[0m\u001b[1;33m(\u001b[0m\u001b[1;36m563\u001b[0m\u001b[1;33m)\u001b[0m\u001b[1;33m\u001b[0m\u001b[1;33m\u001b[0m\u001b[0m\n\u001b[0m",
      "\u001b[1;31mAttributeError\u001b[0m: 'array.array' object has no attribute 'add'"
     ]
    }
   ],
   "source": [
    "aa.add(563)"
   ]
  },
  {
   "cell_type": "code",
   "execution_count": 43,
   "id": "ec047f61",
   "metadata": {},
   "outputs": [
    {
     "ename": "AttributeError",
     "evalue": "'array.array' object has no attribute 'push'",
     "output_type": "error",
     "traceback": [
      "\u001b[1;31m---------------------------------------------------------------------------\u001b[0m",
      "\u001b[1;31mAttributeError\u001b[0m                            Traceback (most recent call last)",
      "\u001b[1;32m<ipython-input-43-133e7fbabc81>\u001b[0m in \u001b[0;36m<module>\u001b[1;34m\u001b[0m\n\u001b[1;32m----> 1\u001b[1;33m \u001b[0maa\u001b[0m\u001b[1;33m.\u001b[0m\u001b[0mpush\u001b[0m\u001b[1;33m(\u001b[0m\u001b[1;36m656\u001b[0m\u001b[1;33m)\u001b[0m\u001b[1;33m\u001b[0m\u001b[1;33m\u001b[0m\u001b[0m\n\u001b[0m",
      "\u001b[1;31mAttributeError\u001b[0m: 'array.array' object has no attribute 'push'"
     ]
    }
   ],
   "source": [
    "aa.push(656)"
   ]
  },
  {
   "cell_type": "code",
   "execution_count": null,
   "id": "7acb282c",
   "metadata": {},
   "outputs": [],
   "source": [
    "# function \n",
    "# bufferinfo\n"
   ]
  },
  {
   "cell_type": "code",
   "execution_count": 45,
   "id": "dfa9b93f",
   "metadata": {},
   "outputs": [
    {
     "name": "stdout",
     "output_type": "stream",
     "text": [
      "(14147200, 8)\n"
     ]
    }
   ],
   "source": [
    "print(aa.buffer_info())"
   ]
  },
  {
   "cell_type": "code",
   "execution_count": 46,
   "id": "6cc204f0",
   "metadata": {},
   "outputs": [
    {
     "name": "stdout",
     "output_type": "stream",
     "text": [
      "array('f', [5.0, 6.0, 322.20001220703125, 2.0, 1.0, 532.0, 1.0, 23.0])\n"
     ]
    }
   ],
   "source": [
    "print(aa)"
   ]
  },
  {
   "cell_type": "code",
   "execution_count": 48,
   "id": "087e6eff",
   "metadata": {},
   "outputs": [],
   "source": [
    "ass=ar.array('i',[6,5,41,2,54,36,135,15241,3,165,2156,41])"
   ]
  },
  {
   "cell_type": "code",
   "execution_count": 49,
   "id": "c421bb54",
   "metadata": {},
   "outputs": [
    {
     "name": "stdout",
     "output_type": "stream",
     "text": [
      "(82946528, 12)\n"
     ]
    }
   ],
   "source": [
    "print(ass.buffer_info())"
   ]
  },
  {
   "cell_type": "code",
   "execution_count": 50,
   "id": "43b7f0f9",
   "metadata": {},
   "outputs": [
    {
     "name": "stdout",
     "output_type": "stream",
     "text": [
      "array('i', [6, 5, 41, 2, 54, 36, 135, 15241, 3, 165, 2156, 41])\n"
     ]
    }
   ],
   "source": [
    "print(ass)"
   ]
  },
  {
   "cell_type": "code",
   "execution_count": 52,
   "id": "e3dc0afe",
   "metadata": {},
   "outputs": [
    {
     "ename": "AttributeError",
     "evalue": "'array.array' object has no attribute 'union'",
     "output_type": "error",
     "traceback": [
      "\u001b[1;31m---------------------------------------------------------------------------\u001b[0m",
      "\u001b[1;31mAttributeError\u001b[0m                            Traceback (most recent call last)",
      "\u001b[1;32m<ipython-input-52-470cd40bcd91>\u001b[0m in \u001b[0;36m<module>\u001b[1;34m\u001b[0m\n\u001b[1;32m----> 1\u001b[1;33m \u001b[0maa\u001b[0m\u001b[1;33m.\u001b[0m\u001b[0munion\u001b[0m\u001b[1;33m(\u001b[0m\u001b[0mass\u001b[0m\u001b[1;33m)\u001b[0m\u001b[1;33m\u001b[0m\u001b[1;33m\u001b[0m\u001b[0m\n\u001b[0m",
      "\u001b[1;31mAttributeError\u001b[0m: 'array.array' object has no attribute 'union'"
     ]
    }
   ],
   "source": [
    "aa.union(ass)\n"
   ]
  },
  {
   "cell_type": "code",
   "execution_count": 54,
   "id": "ecc745b9",
   "metadata": {},
   "outputs": [
    {
     "data": {
      "text/plain": [
       "array('i', [41, 2156, 165, 3, 15241, 135, 36, 54, 2, 41, 5, 6])"
      ]
     },
     "execution_count": 54,
     "metadata": {},
     "output_type": "execute_result"
    }
   ],
   "source": [
    "ass.reverse()\n",
    "ass"
   ]
  },
  {
   "cell_type": "code",
   "execution_count": 55,
   "id": "9aa10475",
   "metadata": {},
   "outputs": [
    {
     "data": {
      "text/plain": [
       "322.20001220703125"
      ]
     },
     "execution_count": 55,
     "metadata": {},
     "output_type": "execute_result"
    }
   ],
   "source": [
    "aa[5]"
   ]
  },
  {
   "cell_type": "code",
   "execution_count": 56,
   "id": "7160000a",
   "metadata": {},
   "outputs": [
    {
     "data": {
      "text/plain": [
       "36"
      ]
     },
     "execution_count": 56,
     "metadata": {},
     "output_type": "execute_result"
    }
   ],
   "source": [
    "ass[6]"
   ]
  },
  {
   "cell_type": "code",
   "execution_count": 57,
   "id": "a4bf5f30",
   "metadata": {},
   "outputs": [
    {
     "name": "stdout",
     "output_type": "stream",
     "text": [
      "41\n",
      "2156\n",
      "165\n",
      "3\n",
      "15241\n",
      "135\n",
      "36\n",
      "54\n",
      "2\n",
      "41\n",
      "5\n",
      "6\n"
     ]
    }
   ],
   "source": [
    "for c in ass:\n",
    "    print(c)"
   ]
  },
  {
   "cell_type": "code",
   "execution_count": 60,
   "id": "9d63b638",
   "metadata": {},
   "outputs": [
    {
     "name": "stdout",
     "output_type": "stream",
     "text": [
      "6\n",
      "5\n",
      "41\n",
      "2\n",
      "54\n",
      "36\n",
      "135\n",
      "15241\n",
      "3\n",
      "165\n",
      "2156\n",
      "41\n"
     ]
    }
   ],
   "source": [
    "for c in range(len(ass)-1,-1,-1):\n",
    "    print(ass[c])\n",
    "    "
   ]
  },
  {
   "cell_type": "code",
   "execution_count": 61,
   "id": "358003a4",
   "metadata": {},
   "outputs": [
    {
     "name": "stdout",
     "output_type": "stream",
     "text": [
      "['dsund', 'sfdafsd', 56, 20]\n"
     ]
    }
   ],
   "source": [
    "print(lst)"
   ]
  },
  {
   "cell_type": "code",
   "execution_count": 62,
   "id": "15b11b7a",
   "metadata": {},
   "outputs": [
    {
     "data": {
      "text/plain": [
       "[20, 56, 'sfdafsd', 'dsund']"
      ]
     },
     "execution_count": 62,
     "metadata": {},
     "output_type": "execute_result"
    }
   ],
   "source": [
    "lst.reverse()\n",
    "lst"
   ]
  },
  {
   "cell_type": "code",
   "execution_count": 64,
   "id": "87e20585",
   "metadata": {},
   "outputs": [],
   "source": [
    "assd=ass.reverse()\n",
    "assd"
   ]
  },
  {
   "cell_type": "code",
   "execution_count": 65,
   "id": "0258f184",
   "metadata": {},
   "outputs": [
    {
     "name": "stdout",
     "output_type": "stream",
     "text": [
      "None\n"
     ]
    }
   ],
   "source": [
    "print(assd)"
   ]
  },
  {
   "cell_type": "code",
   "execution_count": 66,
   "id": "cbca3d6e",
   "metadata": {},
   "outputs": [
    {
     "data": {
      "text/plain": [
       "NoneType"
      ]
     },
     "execution_count": 66,
     "metadata": {},
     "output_type": "execute_result"
    }
   ],
   "source": [
    "type(assd)"
   ]
  },
  {
   "cell_type": "code",
   "execution_count": 83,
   "id": "f6ec3368",
   "metadata": {},
   "outputs": [],
   "source": [
    "assd=ass"
   ]
  },
  {
   "cell_type": "code",
   "execution_count": 84,
   "id": "6e05bcff",
   "metadata": {},
   "outputs": [
    {
     "data": {
      "text/plain": [
       "array.array"
      ]
     },
     "execution_count": 84,
     "metadata": {},
     "output_type": "execute_result"
    }
   ],
   "source": [
    "type(assd)"
   ]
  },
  {
   "cell_type": "code",
   "execution_count": 85,
   "id": "8500f8c3",
   "metadata": {},
   "outputs": [
    {
     "data": {
      "text/plain": [
       "array('i', [6, 5, 41, 2, 54, 36, 135, 15241, 3, 165, 2156, 41])"
      ]
     },
     "execution_count": 85,
     "metadata": {},
     "output_type": "execute_result"
    }
   ],
   "source": [
    "assd.reverse()\n",
    "assd"
   ]
  },
  {
   "cell_type": "code",
   "execution_count": 88,
   "id": "c4a405e9",
   "metadata": {},
   "outputs": [
    {
     "name": "stdout",
     "output_type": "stream",
     "text": [
      "(82946528, 12)\n"
     ]
    }
   ],
   "source": [
    "print(assd.buffer_info())"
   ]
  },
  {
   "cell_type": "code",
   "execution_count": 87,
   "id": "f9b735b6",
   "metadata": {},
   "outputs": [
    {
     "data": {
      "text/plain": [
       "array('i', [6, 5, 41, 2, 54, 36, 135, 15241, 3, 165, 2156, 41])"
      ]
     },
     "execution_count": 87,
     "metadata": {},
     "output_type": "execute_result"
    }
   ],
   "source": [
    "assd\n"
   ]
  },
  {
   "cell_type": "code",
   "execution_count": 95,
   "id": "73519f6a",
   "metadata": {},
   "outputs": [
    {
     "name": "stdout",
     "output_type": "stream",
     "text": [
      "i\n"
     ]
    }
   ],
   "source": [
    "print(ass.typecode)"
   ]
  },
  {
   "cell_type": "code",
   "execution_count": 9,
   "id": "dfed4732",
   "metadata": {},
   "outputs": [
    {
     "name": "stdout",
     "output_type": "stream",
     "text": [
      "enter stringhgchg gffku  tfutk\n"
     ]
    }
   ],
   "source": [
    "name=input(\"enter string\")\n",
    "key=input()\n",
    "n=input()\n",
    "\n",
    "lst1=[]\n",
    "def strtolst(name):\n",
    "    lst1=[]\n",
    "    temp=\"\"\n",
    "    for x in name:\n",
    "        \n",
    "        if x !=\" \":\n",
    "            temp=temp+x\n",
    "        else:\n",
    "            lst1.append(str(temp))\n",
    "            temp=\"\"\n",
    "    return lst1\n",
    "lst2=strtolst(name)\n"
   ]
  },
  {
   "cell_type": "code",
   "execution_count": null,
   "id": "644cfd0d",
   "metadata": {},
   "outputs": [],
   "source": [
    "name=input(\"enter string\")\n",
    "key=input()\n",
    "n=input()jk\n",
    "for x in range(len(name)):\n",
    "    if key in name[]:\n",
    "        c=c+1\n",
    "        if c==n:\n",
    "            break\n",
    "            "
   ]
  },
  {
   "cell_type": "code",
   "execution_count": 39,
   "id": "f01d40a8",
   "metadata": {},
   "outputs": [
    {
     "name": "stdout",
     "output_type": "stream",
     "text": [
      "enter stringasknlkjnlkaskjknlknlknaskkljbjbasljbjbj\n",
      "as\n",
      "2\n",
      "kjknlknlknaskkljbjbasljbjbj\n"
     ]
    }
   ],
   "source": [
    "name=input(\"enter string\")\n",
    "key=input()\n",
    "n=int(input())\n",
    "c=0\n",
    "for x in range(len(name)):\n",
    "    temp=int(x)+int(len(key))\n",
    "    if name[x:temp]==key:\n",
    "        c=c+1\n",
    "        x=x+len(key)\n",
    "        if c==n:\n",
    "            print(name[x:len(name)])\n",
    "            break\n",
    "    temp=0"
   ]
  },
  {
   "cell_type": "code",
   "execution_count": 17,
   "id": "d2fa9996",
   "metadata": {},
   "outputs": [
    {
     "name": "stdout",
     "output_type": "stream",
     "text": [
      "<class 'str'>\n"
     ]
    },
    {
     "ename": "IndexError",
     "evalue": "list assignment index out of range",
     "output_type": "error",
     "traceback": [
      "\u001b[1;31m---------------------------------------------------------------------------\u001b[0m",
      "\u001b[1;31mIndexError\u001b[0m                                Traceback (most recent call last)",
      "\u001b[1;32m<ipython-input-17-dfccb0baac17>\u001b[0m in \u001b[0;36m<module>\u001b[1;34m\u001b[0m\n\u001b[0;32m     10\u001b[0m             \u001b[0mcount\u001b[0m\u001b[1;33m[\u001b[0m\u001b[0mi\u001b[0m\u001b[1;33m]\u001b[0m\u001b[1;33m=\u001b[0m\u001b[0mc\u001b[0m\u001b[1;33m\u001b[0m\u001b[1;33m\u001b[0m\u001b[0m\n\u001b[0;32m     11\u001b[0m         \u001b[1;32melse\u001b[0m\u001b[1;33m:\u001b[0m\u001b[1;33m\u001b[0m\u001b[1;33m\u001b[0m\u001b[0m\n\u001b[1;32m---> 12\u001b[1;33m             \u001b[0mcount\u001b[0m\u001b[1;33m[\u001b[0m\u001b[0mi\u001b[0m\u001b[1;33m]\u001b[0m\u001b[1;33m=\u001b[0m\u001b[1;36m0\u001b[0m\u001b[1;33m\u001b[0m\u001b[1;33m\u001b[0m\u001b[0m\n\u001b[0m\u001b[0;32m     13\u001b[0m \u001b[0mprint\u001b[0m\u001b[1;33m(\u001b[0m\u001b[0mcount\u001b[0m\u001b[1;33m)\u001b[0m\u001b[1;33m\u001b[0m\u001b[1;33m\u001b[0m\u001b[0m\n",
      "\u001b[1;31mIndexError\u001b[0m: list assignment index out of range"
     ]
    }
   ],
   "source": [
    "x=\"dwksskjnanjsadnsdnassmdbkfsdbksjdbkjsdbkj\"\n",
    "print(type(x))\n",
    "count=[]\n",
    "for i in range(len(x)):\n",
    "    c=0\n",
    "    for j in range(i+1,len(x)):\n",
    "        if x[i]==x[j]:\n",
    "            print(x[i])\n",
    "            c=c+1\n",
    "            count[i]=c\n",
    "        else:\n",
    "            count[i]=0\n",
    "print(count)"
   ]
  },
  {
   "cell_type": "code",
   "execution_count": 4,
   "id": "fbb853b6",
   "metadata": {},
   "outputs": [
    {
     "name": "stdout",
     "output_type": "stream",
     "text": [
      "{'o', 'l', 'i', 'a', 'j', ' ', 'n', 's'}\n"
     ]
    }
   ],
   "source": [
    "s=\"saloni jain\"\n",
    "lst=(print(set(s)))\n",
    "lst"
   ]
  },
  {
   "cell_type": "code",
   "execution_count": 8,
   "id": "10d33edf",
   "metadata": {},
   "outputs": [
    {
     "name": "stdout",
     "output_type": "stream",
     "text": [
      "enter stringenter stringFlutter has widgets specific to a particular platform\n",
      "['enter', 'stringFlutter', 'has', 'widgets', 'specific', 'to', 'a', 'particular']\n"
     ]
    }
   ],
   "source": [
    "name=input(\"enter string\")\n",
    "# key=input()\n",
    "# n=input()\n",
    "\n",
    "lst1=[]\n",
    "def strtolst(name):\n",
    "    lst1=[]\n",
    "    temp=\"\"\n",
    "    for x in name:\n",
    "        \n",
    "        if x !=\" \":\n",
    "            temp=temp+x\n",
    "        else:\n",
    "            lst1.append(str(temp))\n",
    "            temp=\"\"\n",
    "    return lst1\n",
    "lst2=strtolst(name)\n",
    "lst3=[]\n",
    "for x in lst2:\n",
    "    if x not in lst3:\n",
    "        lst3.append(x)\n",
    "print(lst3)"
   ]
  },
  {
   "cell_type": "code",
   "execution_count": null,
   "id": "4fe00699",
   "metadata": {},
   "outputs": [],
   "source": []
  }
 ],
 "metadata": {
  "kernelspec": {
   "display_name": "Python 3",
   "language": "python",
   "name": "python3"
  },
  "language_info": {
   "codemirror_mode": {
    "name": "ipython",
    "version": 3
   },
   "file_extension": ".py",
   "mimetype": "text/x-python",
   "name": "python",
   "nbconvert_exporter": "python",
   "pygments_lexer": "ipython3",
   "version": "3.8.5"
  }
 },
 "nbformat": 4,
 "nbformat_minor": 5
}
