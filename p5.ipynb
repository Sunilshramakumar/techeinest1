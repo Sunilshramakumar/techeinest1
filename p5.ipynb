{
 "cells": [
  {
   "cell_type": "code",
   "execution_count": 1,
   "id": "9983f168",
   "metadata": {},
   "outputs": [
    {
     "data": {
      "text/plain": [
       "56"
      ]
     },
     "execution_count": 1,
     "metadata": {},
     "output_type": "execute_result"
    }
   ],
   "source": [
    "def fun(a):\n",
    "    return a\n",
    "fun(56)"
   ]
  },
  {
   "cell_type": "code",
   "execution_count": 3,
   "id": "95af1b47",
   "metadata": {},
   "outputs": [],
   "source": [
    "from array import *\n"
   ]
  },
  {
   "cell_type": "code",
   "execution_count": 7,
   "id": "54b4639c",
   "metadata": {},
   "outputs": [
    {
     "data": {
      "text/plain": [
       "array('i', [56, 48, 21])"
      ]
     },
     "execution_count": 7,
     "metadata": {},
     "output_type": "execute_result"
    }
   ],
   "source": [
    "arr1=array('i',[56,48,21])\n",
    "arr1"
   ]
  },
  {
   "cell_type": "code",
   "execution_count": 6,
   "id": "8d65bac2",
   "metadata": {},
   "outputs": [
    {
     "data": {
      "text/plain": [
       "array('i', [58, 23, 45])"
      ]
     },
     "execution_count": 6,
     "metadata": {},
     "output_type": "execute_result"
    }
   ],
   "source": [
    "arr2=array('i',[58,23,45])\n",
    "arr2"
   ]
  },
  {
   "cell_type": "code",
   "execution_count": 9,
   "id": "58de53c9",
   "metadata": {},
   "outputs": [
    {
     "ename": "SyntaxError",
     "evalue": "invalid syntax (<ipython-input-9-6650a9eb9434>, line 1)",
     "output_type": "error",
     "traceback": [
      "\u001b[1;36m  File \u001b[1;32m\"<ipython-input-9-6650a9eb9434>\"\u001b[1;36m, line \u001b[1;32m1\u001b[0m\n\u001b[1;33m    def fun2\u001b[0m\n\u001b[1;37m            ^\u001b[0m\n\u001b[1;31mSyntaxError\u001b[0m\u001b[1;31m:\u001b[0m invalid syntax\n"
     ]
    }
   ],
   "source": [
    "def fun2\n",
    "p1,p2=0\n",
    "for i in range(0,3):\n",
    "    if arr1[i]<arr2[i]:\n",
    "        p1=p1+1\n",
    "    elif arr2[i]>arr2[i]:\n",
    "        p2=p2+1\n",
    "    return str(arr1),str(arr)"
   ]
  },
  {
   "cell_type": "code",
   "execution_count": 10,
   "id": "04bacdaf",
   "metadata": {},
   "outputs": [
    {
     "name": "stdout",
     "output_type": "stream",
     "text": [
      "1944693920\n"
     ]
    }
   ],
   "source": [
    "a=80\n",
    "print(id(a))"
   ]
  },
  {
   "cell_type": "code",
   "execution_count": 11,
   "id": "4d29eee6",
   "metadata": {},
   "outputs": [
    {
     "name": "stdout",
     "output_type": "stream",
     "text": [
      "1944694080\n"
     ]
    }
   ],
   "source": [
    "a=90\n",
    "print(id(a))"
   ]
  },
  {
   "cell_type": "code",
   "execution_count": 13,
   "id": "4349307d",
   "metadata": {},
   "outputs": [
    {
     "ename": "SyntaxError",
     "evalue": "cannot assign to function call (<ipython-input-13-222d84d5656a>, line 2)",
     "output_type": "error",
     "traceback": [
      "\u001b[1;36m  File \u001b[1;32m\"<ipython-input-13-222d84d5656a>\"\u001b[1;36m, line \u001b[1;32m2\u001b[0m\n\u001b[1;33m    id(b)=1944693920\u001b[0m\n\u001b[1;37m    ^\u001b[0m\n\u001b[1;31mSyntaxError\u001b[0m\u001b[1;31m:\u001b[0m cannot assign to function call\n"
     ]
    }
   ],
   "source": [
    "b=22\n",
    "id(b)=1944693920"
   ]
  },
  {
   "cell_type": "code",
   "execution_count": 1,
   "id": "bf2a4228",
   "metadata": {},
   "outputs": [],
   "source": [
    "lst=['sunil','sitamati','pangat','ramsusar',5.6]"
   ]
  },
  {
   "cell_type": "code",
   "execution_count": 2,
   "id": "08edbfec",
   "metadata": {},
   "outputs": [
    {
     "data": {
      "text/plain": [
       "['sunil', 'sitamati', 'pangat', 'ramsusar', 5.6]"
      ]
     },
     "execution_count": 2,
     "metadata": {},
     "output_type": "execute_result"
    }
   ],
   "source": [
    "lst"
   ]
  },
  {
   "cell_type": "code",
   "execution_count": 3,
   "id": "cff30ac8",
   "metadata": {},
   "outputs": [
    {
     "data": {
      "text/plain": [
       "['__add__',\n",
       " '__class__',\n",
       " '__contains__',\n",
       " '__delattr__',\n",
       " '__delitem__',\n",
       " '__dir__',\n",
       " '__doc__',\n",
       " '__eq__',\n",
       " '__format__',\n",
       " '__ge__',\n",
       " '__getattribute__',\n",
       " '__getitem__',\n",
       " '__gt__',\n",
       " '__hash__',\n",
       " '__iadd__',\n",
       " '__imul__',\n",
       " '__init__',\n",
       " '__init_subclass__',\n",
       " '__iter__',\n",
       " '__le__',\n",
       " '__len__',\n",
       " '__lt__',\n",
       " '__mul__',\n",
       " '__ne__',\n",
       " '__new__',\n",
       " '__reduce__',\n",
       " '__reduce_ex__',\n",
       " '__repr__',\n",
       " '__reversed__',\n",
       " '__rmul__',\n",
       " '__setattr__',\n",
       " '__setitem__',\n",
       " '__sizeof__',\n",
       " '__str__',\n",
       " '__subclasshook__',\n",
       " 'append',\n",
       " 'clear',\n",
       " 'copy',\n",
       " 'count',\n",
       " 'extend',\n",
       " 'index',\n",
       " 'insert',\n",
       " 'pop',\n",
       " 'remove',\n",
       " 'reverse',\n",
       " 'sort']"
      ]
     },
     "execution_count": 3,
     "metadata": {},
     "output_type": "execute_result"
    }
   ],
   "source": [
    "dir(list\n",
    "   )"
   ]
  },
  {
   "cell_type": "code",
   "execution_count": 4,
   "id": "b6578dd5",
   "metadata": {},
   "outputs": [],
   "source": [
    "lst.remove('sunil')"
   ]
  },
  {
   "cell_type": "code",
   "execution_count": 5,
   "id": "1be81b36",
   "metadata": {},
   "outputs": [
    {
     "data": {
      "text/plain": [
       "['sitamati', 'pangat', 'ramsusar', 5.6]"
      ]
     },
     "execution_count": 5,
     "metadata": {},
     "output_type": "execute_result"
    }
   ],
   "source": [
    "lst"
   ]
  },
  {
   "cell_type": "code",
   "execution_count": null,
   "id": "0f6fbff4",
   "metadata": {},
   "outputs": [],
   "source": [
    "lst[]"
   ]
  },
  {
   "cell_type": "code",
   "execution_count": null,
   "id": "d07a8377",
   "metadata": {},
   "outputs": [],
   "source": [
    "lst.insert\"(sunil\")\n",
    "\n"
   ]
  },
  {
   "cell_type": "code",
   "execution_count": 18,
   "id": "a0eae700",
   "metadata": {
    "scrolled": true
   },
   "outputs": [
    {
     "name": "stdout",
     "output_type": "stream",
     "text": [
      "\n",
      "***********\n",
      " *********\n",
      "  *******\n",
      "   *****\n",
      "    ***\n",
      "     *"
     ]
    }
   ],
   "source": [
    "for i in range(5,-1,-1):\n",
    "    print()\n",
    "    for j in range(5-i):\n",
    "        print(\" \",end=\"\")\n",
    "    for k in range(i+i+1):\n",
    "        print(\"*\",end=\"\") \n",
    "    \n",
    "  \n",
    "    \n",
    "        "
   ]
  },
  {
   "cell_type": "code",
   "execution_count": 27,
   "id": "b550acf1",
   "metadata": {},
   "outputs": [
    {
     "name": "stdout",
     "output_type": "stream",
     "text": [
      "\n",
      "***********\n",
      " *********\n",
      "  *******\n",
      "   *****\n",
      "    ***\n",
      "     *"
     ]
    }
   ],
   "source": [
    "for i in range(6):\n",
    "    print()\n",
    "    for j in range(i):\n",
    "        print(\" \",end=\"\")\n",
    "    for k in range(11-2*i):\n",
    "        print(\"*\",end=\"\")"
   ]
  },
  {
   "cell_type": "code",
   "execution_count": 61,
   "id": "9831cc51",
   "metadata": {},
   "outputs": [
    {
     "name": "stdout",
     "output_type": "stream",
     "text": [
      "     *\n",
      "    * *\n",
      "   *   *\n",
      "  *     *\n",
      " *       *\n",
      "***********"
     ]
    }
   ],
   "source": [
    "for i in range(5):\n",
    "    print(\" \",end=\"\")\n",
    "print(\"*\",end=\"\")\n",
    "for i in range(1,6):\n",
    "    print()\n",
    "    if i<5:\n",
    "        for j in range(5-i):\n",
    "            print(\" \",end=\"\")\n",
    "        print(\"*\",end=\"\")\n",
    "        for k in range(2*i-1):\n",
    "            print(\" \",end=\"\")\n",
    "        if k!=1:\n",
    "            print(\"*\",end=\"\")\n",
    "    else:\n",
    "        for i in range(11):\n",
    "            print(\"*\",end=\"\")\n",
    "    "
   ]
  },
  {
   "cell_type": "code",
   "execution_count": 92,
   "id": "09e15f12",
   "metadata": {},
   "outputs": [
    {
     "name": "stdout",
     "output_type": "stream",
     "text": [
      "     *\n",
      "    * *\n",
      "   *   *\n",
      "  *     *\n",
      " *       *\n",
      "  *      *\n",
      "   *    *\n",
      "    *  *\n",
      "     **\n"
     ]
    }
   ],
   "source": [
    "for i in range(5):\n",
    "    print(\" \",end=\"\")\n",
    "print(\"*\",end=\"\")\n",
    "for i in range(1,6):\n",
    "    print()\n",
    "    if i<5:\n",
    "        for j in range(5-i):\n",
    "            print(\" \",end=\"\")\n",
    "        print(\"*\",end=\"\")\n",
    "        for k in range(2*i-1):\n",
    "            print(\" \",end=\"\")    \n",
    "        print(\"*\",end=\"\")\n",
    "for i in range(1,5):\n",
    "    for p in range(i):\n",
    "        print(\" \",end=\"\")\n",
    "    print(\" *\",end=\"\")\n",
    "    for q in range(8-2*i):\n",
    "        print(\" \",end=\"\")\n",
    "    print(\"*\",end=\"\")\n",
    "    print()"
   ]
  },
  {
   "cell_type": "code",
   "execution_count": null,
   "id": "91ee88d6",
   "metadata": {},
   "outputs": [],
   "source": []
  }
 ],
 "metadata": {
  "kernelspec": {
   "display_name": "Python 3",
   "language": "python",
   "name": "python3"
  },
  "language_info": {
   "codemirror_mode": {
    "name": "ipython",
    "version": 3
   },
   "file_extension": ".py",
   "mimetype": "text/x-python",
   "name": "python",
   "nbconvert_exporter": "python",
   "pygments_lexer": "ipython3",
   "version": "3.8.5"
  }
 },
 "nbformat": 4,
 "nbformat_minor": 5
}
