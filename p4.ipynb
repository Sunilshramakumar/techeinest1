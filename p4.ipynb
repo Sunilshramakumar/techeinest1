{
 "cells": [
  {
   "cell_type": "code",
   "execution_count": 1,
   "id": "9087d3b5",
   "metadata": {},
   "outputs": [
    {
     "name": "stdout",
     "output_type": "stream",
     "text": [
      "enter the value of array size5\n",
      "5\n"
     ]
    }
   ],
   "source": [
    "from array import *\n",
    "ar=array('i',[])\n",
    "n= int(input('enter the value of array size'))\n",
    "print(n)"
   ]
  },
  {
   "cell_type": "code",
   "execution_count": 2,
   "id": "ccbd6b0c",
   "metadata": {},
   "outputs": [
    {
     "name": "stdout",
     "output_type": "stream",
     "text": [
      "enter56\n",
      "enter25\n",
      "enter78\n",
      "enter65\n",
      "enter15\n"
     ]
    }
   ],
   "source": [
    "for f in range(n):\n",
    "    j=int(input(\"enter\"))\n",
    "    ar.append(j)"
   ]
  },
  {
   "cell_type": "code",
   "execution_count": 3,
   "id": "0aa17ced",
   "metadata": {},
   "outputs": [
    {
     "data": {
      "text/plain": [
       "array('i', [56, 25, 78, 65, 15])"
      ]
     },
     "execution_count": 3,
     "metadata": {},
     "output_type": "execute_result"
    }
   ],
   "source": [
    "ar"
   ]
  },
  {
   "cell_type": "code",
   "execution_count": 4,
   "id": "d457f585",
   "metadata": {},
   "outputs": [
    {
     "data": {
      "text/plain": [
       "15"
      ]
     },
     "execution_count": 4,
     "metadata": {},
     "output_type": "execute_result"
    }
   ],
   "source": [
    "ar.pop(4)"
   ]
  },
  {
   "cell_type": "code",
   "execution_count": 7,
   "id": "284b488d",
   "metadata": {},
   "outputs": [
    {
     "ename": "AttributeError",
     "evalue": "'array.array' object has no attribute 'copy'",
     "output_type": "error",
     "traceback": [
      "\u001b[1;31m---------------------------------------------------------------------------\u001b[0m",
      "\u001b[1;31mAttributeError\u001b[0m                            Traceback (most recent call last)",
      "\u001b[1;32m<ipython-input-7-976d98e5f7df>\u001b[0m in \u001b[0;36m<module>\u001b[1;34m\u001b[0m\n\u001b[1;32m----> 1\u001b[1;33m \u001b[0marcopy\u001b[0m\u001b[1;33m=\u001b[0m\u001b[0mar\u001b[0m\u001b[1;33m.\u001b[0m\u001b[0mcopy\u001b[0m\u001b[1;33m(\u001b[0m\u001b[1;33m)\u001b[0m\u001b[1;33m\u001b[0m\u001b[1;33m\u001b[0m\u001b[0m\n\u001b[0m",
      "\u001b[1;31mAttributeError\u001b[0m: 'array.array' object has no attribute 'copy'"
     ]
    }
   ],
   "source": [
    "arcopy=ar.copy()"
   ]
  },
  {
   "cell_type": "code",
   "execution_count": 99,
   "id": "3b0ef191",
   "metadata": {},
   "outputs": [],
   "source": [
    "ag=array([5,6,4,8,7,2])\n"
   ]
  },
  {
   "cell_type": "code",
   "execution_count": 100,
   "id": "8813c0d5",
   "metadata": {},
   "outputs": [
    {
     "name": "stdout",
     "output_type": "stream",
     "text": [
      "[5 6 4 8 7 2]\n"
     ]
    }
   ],
   "source": [
    "print(ag)"
   ]
  },
  {
   "cell_type": "code",
   "execution_count": 101,
   "id": "0fedc5f8",
   "metadata": {},
   "outputs": [
    {
     "data": {
      "text/plain": [
       "array([5, 6, 4, 8, 7, 2])"
      ]
     },
     "execution_count": 101,
     "metadata": {},
     "output_type": "execute_result"
    }
   ],
   "source": [
    "#we use diffrent function for array\n",
    "#copy array\n",
    "sa=ag\n",
    "sa"
   ]
  },
  {
   "cell_type": "code",
   "execution_count": 102,
   "id": "49729a03",
   "metadata": {},
   "outputs": [
    {
     "data": {
      "text/plain": [
       "161289664"
      ]
     },
     "execution_count": 102,
     "metadata": {},
     "output_type": "execute_result"
    }
   ],
   "source": [
    "id(ag)"
   ]
  },
  {
   "cell_type": "code",
   "execution_count": 103,
   "id": "9a2a60b1",
   "metadata": {},
   "outputs": [
    {
     "data": {
      "text/plain": [
       "161289664"
      ]
     },
     "execution_count": 103,
     "metadata": {},
     "output_type": "execute_result"
    }
   ],
   "source": [
    "id(sa)"
   ]
  },
  {
   "cell_type": "code",
   "execution_count": 104,
   "id": "0b8915c9",
   "metadata": {},
   "outputs": [],
   "source": [
    "del sa"
   ]
  },
  {
   "cell_type": "code",
   "execution_count": 105,
   "id": "80bf62b5",
   "metadata": {},
   "outputs": [
    {
     "data": {
      "text/plain": [
       "array([5, 6, 4, 8, 7, 2])"
      ]
     },
     "execution_count": 105,
     "metadata": {},
     "output_type": "execute_result"
    }
   ],
   "source": [
    "ag"
   ]
  },
  {
   "cell_type": "code",
   "execution_count": 107,
   "id": "6b3de241",
   "metadata": {},
   "outputs": [
    {
     "ename": "AttributeError",
     "evalue": "'numpy.ndarray' object has no attribute 'append'",
     "output_type": "error",
     "traceback": [
      "\u001b[1;31m---------------------------------------------------------------------------\u001b[0m",
      "\u001b[1;31mAttributeError\u001b[0m                            Traceback (most recent call last)",
      "\u001b[1;32m<ipython-input-107-f68c80f569b0>\u001b[0m in \u001b[0;36m<module>\u001b[1;34m\u001b[0m\n\u001b[0;32m      1\u001b[0m \u001b[0msa\u001b[0m\u001b[1;33m=\u001b[0m\u001b[0marray\u001b[0m\u001b[1;33m(\u001b[0m\u001b[1;33m[\u001b[0m\u001b[1;33m]\u001b[0m\u001b[1;33m)\u001b[0m\u001b[1;33m\u001b[0m\u001b[1;33m\u001b[0m\u001b[0m\n\u001b[0;32m      2\u001b[0m \u001b[1;32mfor\u001b[0m \u001b[0mx\u001b[0m \u001b[1;32min\u001b[0m \u001b[0mag\u001b[0m\u001b[1;33m:\u001b[0m\u001b[1;33m\u001b[0m\u001b[1;33m\u001b[0m\u001b[0m\n\u001b[1;32m----> 3\u001b[1;33m     \u001b[0msa\u001b[0m\u001b[1;33m.\u001b[0m\u001b[0mappend\u001b[0m\u001b[1;33m(\u001b[0m\u001b[0mx\u001b[0m\u001b[1;33m)\u001b[0m\u001b[1;33m\u001b[0m\u001b[1;33m\u001b[0m\u001b[0m\n\u001b[0m\u001b[0;32m      4\u001b[0m \u001b[0msa\u001b[0m\u001b[1;33m\u001b[0m\u001b[1;33m\u001b[0m\u001b[0m\n",
      "\u001b[1;31mAttributeError\u001b[0m: 'numpy.ndarray' object has no attribute 'append'"
     ]
    }
   ],
   "source": [
    "sa=array([])\n",
    "for x in ag:\n",
    "    sa.append(x)\n",
    "sa"
   ]
  },
  {
   "cell_type": "code",
   "execution_count": 1,
   "id": "4c11c621",
   "metadata": {},
   "outputs": [
    {
     "name": "stdout",
     "output_type": "stream",
     "text": [
      "<class 'tuple'>\n"
     ]
    }
   ],
   "source": [
    "tu=('apple','purple','pappaya')\n",
    "print(type(tu))"
   ]
  },
  {
   "cell_type": "code",
   "execution_count": 4,
   "id": "296c8434",
   "metadata": {},
   "outputs": [
    {
     "name": "stdout",
     "output_type": "stream",
     "text": [
      "('apple', 'purple', 'pappaya')\n",
      "no\n"
     ]
    }
   ],
   "source": [
    "print(tu)\n",
    "if 'papple' in tu:\n",
    "    print('yes')\n",
    "else :\n",
    "    print('no')"
   ]
  },
  {
   "cell_type": "code",
   "execution_count": 5,
   "id": "255c31ad",
   "metadata": {},
   "outputs": [],
   "source": [
    "set1={'set1','set2','set3','set4'}"
   ]
  },
  {
   "cell_type": "code",
   "execution_count": 7,
   "id": "924598c6",
   "metadata": {},
   "outputs": [
    {
     "name": "stdout",
     "output_type": "stream",
     "text": [
      "{'set4', 'set1', 'set3', 'set2'}\n",
      "{'set1', 'set3', 'set2'}\n"
     ]
    }
   ],
   "source": [
    "print(set1)\n",
    "set1.pop()\n",
    "print(set1)"
   ]
  },
  {
   "cell_type": "code",
   "execution_count": 8,
   "id": "d8411aec",
   "metadata": {},
   "outputs": [
    {
     "ename": "AttributeError",
     "evalue": "'set' object has no attribute 'short'",
     "output_type": "error",
     "traceback": [
      "\u001b[1;31m---------------------------------------------------------------------------\u001b[0m",
      "\u001b[1;31mAttributeError\u001b[0m                            Traceback (most recent call last)",
      "\u001b[1;32m<ipython-input-8-55443f15ae2a>\u001b[0m in \u001b[0;36m<module>\u001b[1;34m\u001b[0m\n\u001b[1;32m----> 1\u001b[1;33m \u001b[0mset1\u001b[0m\u001b[1;33m.\u001b[0m\u001b[0mshort\u001b[0m\u001b[1;33m(\u001b[0m\u001b[1;33m)\u001b[0m\u001b[1;33m\u001b[0m\u001b[1;33m\u001b[0m\u001b[0m\n\u001b[0m",
      "\u001b[1;31mAttributeError\u001b[0m: 'set' object has no attribute 'short'"
     ]
    }
   ],
   "source": []
  },
  {
   "cell_type": "code",
   "execution_count": 6,
   "id": "82655546",
   "metadata": {},
   "outputs": [
    {
     "name": "stdout",
     "output_type": "stream",
     "text": [
      "enter 1st5\n",
      "enter 2nd5\n",
      "16\n"
     ]
    }
   ],
   "source": [
    "x=int(input('enter 1st'))\n",
    "y=int(input('enter 2nd'))\n",
    "      \n",
    "def add_sub(x,y):\n",
    "      return x+y,x-y;\n",
    "r1,r2=add_sub(8,5)\n",
    "print(r1+r2)"
   ]
  },
  {
   "cell_type": "code",
   "execution_count": null,
   "id": "da57480b",
   "metadata": {},
   "outputs": [],
   "source": []
  }
 ],
 "metadata": {
  "kernelspec": {
   "display_name": "Python 3",
   "language": "python",
   "name": "python3"
  },
  "language_info": {
   "codemirror_mode": {
    "name": "ipython",
    "version": 3
   },
   "file_extension": ".py",
   "mimetype": "text/x-python",
   "name": "python",
   "nbconvert_exporter": "python",
   "pygments_lexer": "ipython3",
   "version": "3.8.5"
  }
 },
 "nbformat": 4,
 "nbformat_minor": 5
}
