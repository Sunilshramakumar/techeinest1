{
 "cells": [
  {
   "cell_type": "code",
   "execution_count": 1,
   "id": "810b6e36",
   "metadata": {},
   "outputs": [
    {
     "data": {
      "text/plain": [
       "125"
      ]
     },
     "execution_count": 1,
     "metadata": {},
     "output_type": "execute_result"
    }
   ],
   "source": [
    "625//5"
   ]
  },
  {
   "cell_type": "code",
   "execution_count": null,
   "id": "474412c7",
   "metadata": {},
   "outputs": [],
   "source": [
    "\n"
   ]
  },
  {
   "cell_type": "code",
   "execution_count": 2,
   "id": "a8498116",
   "metadata": {},
   "outputs": [
    {
     "name": "stdout",
     "output_type": "stream",
     "text": [
      "potpotp\n"
     ]
    }
   ],
   "source": [
    "str=(\"laptoptop\")\n",
    "print(str[8:1:-1])"
   ]
  },
  {
   "cell_type": "code",
   "execution_count": 3,
   "id": "ca1734df",
   "metadata": {},
   "outputs": [
    {
     "name": "stdout",
     "output_type": "stream",
     "text": [
      "team's\n"
     ]
    }
   ],
   "source": [
    "print(\"team\\'s\")"
   ]
  },
  {
   "cell_type": "code",
   "execution_count": 4,
   "id": "48d2dc23",
   "metadata": {},
   "outputs": [
    {
     "name": "stdout",
     "output_type": "stream",
     "text": [
      "enter first\n"
     ]
    },
    {
     "ename": "ValueError",
     "evalue": "invalid literal for int() with base 10: ''",
     "output_type": "error",
     "traceback": [
      "\u001b[1;31m---------------------------------------------------------------------------\u001b[0m",
      "\u001b[1;31mValueError\u001b[0m                                Traceback (most recent call last)",
      "\u001b[1;32m<ipython-input-4-e2134abed791>\u001b[0m in \u001b[0;36m<module>\u001b[1;34m\u001b[0m\n\u001b[1;32m----> 1\u001b[1;33m \u001b[0ma\u001b[0m\u001b[1;33m=\u001b[0m\u001b[0mint\u001b[0m\u001b[1;33m(\u001b[0m\u001b[0minput\u001b[0m\u001b[1;33m(\u001b[0m\u001b[1;34m\"enter first\"\u001b[0m\u001b[1;33m)\u001b[0m\u001b[1;33m)\u001b[0m\u001b[1;33m\u001b[0m\u001b[1;33m\u001b[0m\u001b[0m\n\u001b[0m\u001b[0;32m      2\u001b[0m \u001b[0mb\u001b[0m\u001b[1;33m=\u001b[0m\u001b[0mint\u001b[0m\u001b[1;33m(\u001b[0m\u001b[0minput\u001b[0m\u001b[1;33m(\u001b[0m\u001b[1;34m\"enter second\"\u001b[0m\u001b[1;33m)\u001b[0m\u001b[1;33m)\u001b[0m\u001b[1;33m\u001b[0m\u001b[1;33m\u001b[0m\u001b[0m\n\u001b[0;32m      3\u001b[0m \u001b[1;32mdef\u001b[0m \u001b[0msma\u001b[0m\u001b[1;33m(\u001b[0m\u001b[1;33m)\u001b[0m\u001b[1;33m:\u001b[0m\u001b[1;33m\u001b[0m\u001b[1;33m\u001b[0m\u001b[0m\n\u001b[0;32m      4\u001b[0m     \u001b[1;32mif\u001b[0m \u001b[0ma\u001b[0m\u001b[1;33m<\u001b[0m\u001b[0mb\u001b[0m\u001b[1;33m:\u001b[0m\u001b[1;33m\u001b[0m\u001b[1;33m\u001b[0m\u001b[0m\n\u001b[0;32m      5\u001b[0m         \u001b[0mprint\u001b[0m\u001b[1;33m(\u001b[0m\u001b[1;34m\"b is greater : {}\"\u001b[0m\u001b[1;33m.\u001b[0m\u001b[0mformat\u001b[0m\u001b[1;33m(\u001b[0m\u001b[0mb\u001b[0m\u001b[1;33m)\u001b[0m\u001b[1;33m)\u001b[0m\u001b[1;33m\u001b[0m\u001b[1;33m\u001b[0m\u001b[0m\n",
      "\u001b[1;31mValueError\u001b[0m: invalid literal for int() with base 10: ''"
     ]
    }
   ],
   "source": [
    "a=int(input(\"enter first\"))\n",
    "b=int(input(\"enter second\"))\n",
    "def sma():\n",
    "    if a<b:\n",
    "        print(\"b is greater : {}\".format(b))\n",
    "    elif b>c:\n",
    "        print(\"\")"
   ]
  },
  {
   "cell_type": "code",
   "execution_count": null,
   "id": "3fc49f75",
   "metadata": {},
   "outputs": [],
   "source": [
    "n=int(input(\"please enter the lenth\"))\n",
    "fabi=[]\n",
    "def fab(n):\n",
    "    first=0\n",
    "    for i in range(n):\n",
    "        temp=first+i\n",
    "        print(temp)\n",
    "        fabi.append(temp)\n",
    "        first=temp\n",
    "    print(fabi)\n",
    "    \n",
    "fab(n)"
   ]
  },
  {
   "cell_type": "code",
   "execution_count": null,
   "id": "74d5faf9",
   "metadata": {},
   "outputs": [],
   "source": [
    "str1=input(\"enter string\\n\")\n",
    "count=0\n",
    "for i in str:\n",
    "    if i==\" \":\n",
    "        count=count+1\n",
    "print(count+1)"
   ]
  },
  {
   "cell_type": "code",
   "execution_count": null,
   "id": "70aa2a40",
   "metadata": {},
   "outputs": [],
   "source": [
    "l=[1,5,4,8,6,22,4,78,5,4,1,5,62,1,4]\n",
    "count=0\n",
    "for i in l:\n",
    "    if i%2!=0:\n",
    "        count=count+1\n",
    "        \n",
    "print(\"odd numbers are : \"+count)\n",
    "\n"
   ]
  },
  {
   "cell_type": "code",
   "execution_count": null,
   "id": "e0f46a40",
   "metadata": {},
   "outputs": [],
   "source": [
    "string=input(\"enter string\")\n",
    "substring=input(\"enter substring\")\n",
    "count=0\n",
    "if (string.count(substring)>0):\n",
    "       for i in range(0,len(string)):\n",
    "            if (substring[i]==string[i]):\n",
    "                count=count+1\n",
    "\n",
    "else:\n",
    "    print(\"not found\")\n",
    "print(count)"
   ]
  },
  {
   "cell_type": "code",
   "execution_count": null,
   "id": "932c95d4",
   "metadata": {},
   "outputs": [],
   "source": [
    "string=input(\"enter string\")\n",
    "substring=input(\"enter substring\")\n",
    "i=string.count(substring)\n",
    "print(i)"
   ]
  },
  {
   "cell_type": "code",
   "execution_count": null,
   "id": "9edf58ab",
   "metadata": {},
   "outputs": [],
   "source": [
    "lst=[1,2,5,2,3,7,3,6,7,9,5,5]\n",
    "s=set()\n",
    "for i in range(0,len(lst)):\n",
    "    for j in range(i+1,len(lst)):\n",
    "        if (lst[i]==lst[j]):\n",
    "            s.add(lst[i])\n",
    "            \n",
    "print(s)           "
   ]
  },
  {
   "cell_type": "code",
   "execution_count": null,
   "id": "2a22e5c3",
   "metadata": {},
   "outputs": [],
   "source": [
    "num=int(input(\"enter a number\"))\n",
    "fact=0\n",
    "for i in range(1,num+1):\n",
    "    if (num%i==0):\n",
    "        fact=fact+1\n",
    "if fact==2:\n",
    "    print(\"prime number\")\n",
    "else:\n",
    "    print(\"not prime\")\n"
   ]
  },
  {
   "cell_type": "code",
   "execution_count": null,
   "id": "56481a0a",
   "metadata": {},
   "outputs": [],
   "source": [
    "s1=input(\"s1\")\n",
    "s2=input(\"s1\")\n",
    "temp=[]\n",
    "\n",
    "\n",
    "\n",
    "\n",
    "\n",
    "\n"
   ]
  },
  {
   "cell_type": "code",
   "execution_count": 8,
   "id": "e31db5fc",
   "metadata": {},
   "outputs": [
    {
     "name": "stdout",
     "output_type": "stream",
     "text": [
      "s1\n",
      "hello im sunil\n",
      "s2\n",
      "hello\n"
     ]
    },
    {
     "ename": "ValueError",
     "evalue": "invalid literal for int() with base 10: 'h'",
     "output_type": "error",
     "traceback": [
      "\u001b[1;31m---------------------------------------------------------------------------\u001b[0m",
      "\u001b[1;31mValueError\u001b[0m                                Traceback (most recent call last)",
      "\u001b[1;32m<ipython-input-8-cf9fec5cfe0b>\u001b[0m in \u001b[0;36m<module>\u001b[1;34m\u001b[0m\n\u001b[0;32m      5\u001b[0m \u001b[0mm\u001b[0m\u001b[1;33m=\u001b[0m\u001b[0mlen\u001b[0m\u001b[1;33m(\u001b[0m\u001b[0ms2\u001b[0m\u001b[1;33m)\u001b[0m\u001b[1;33m\u001b[0m\u001b[1;33m\u001b[0m\u001b[0m\n\u001b[0;32m      6\u001b[0m \u001b[1;32mfor\u001b[0m \u001b[0mi\u001b[0m \u001b[1;32min\u001b[0m \u001b[0ms1\u001b[0m\u001b[1;33m:\u001b[0m\u001b[1;33m\u001b[0m\u001b[1;33m\u001b[0m\u001b[0m\n\u001b[1;32m----> 7\u001b[1;33m     \u001b[1;32mif\u001b[0m \u001b[0ms2\u001b[0m \u001b[1;32min\u001b[0m \u001b[0ms1\u001b[0m\u001b[1;33m[\u001b[0m\u001b[0mint\u001b[0m\u001b[1;33m(\u001b[0m\u001b[0mi\u001b[0m\u001b[1;33m)\u001b[0m\u001b[1;33m,\u001b[0m\u001b[0mint\u001b[0m\u001b[1;33m(\u001b[0m\u001b[0mi\u001b[0m\u001b[1;33m)\u001b[0m\u001b[1;33m+\u001b[0m\u001b[0mm\u001b[0m\u001b[1;33m]\u001b[0m\u001b[1;33m:\u001b[0m\u001b[1;33m\u001b[0m\u001b[1;33m\u001b[0m\u001b[0m\n\u001b[0m\u001b[0;32m      8\u001b[0m         \u001b[0mcount\u001b[0m\u001b[1;33m=\u001b[0m\u001b[0mcount\u001b[0m\u001b[1;33m+\u001b[0m\u001b[1;36m1\u001b[0m\u001b[1;33m\u001b[0m\u001b[1;33m\u001b[0m\u001b[0m\n\u001b[0;32m      9\u001b[0m         \u001b[0mi\u001b[0m\u001b[1;33m=\u001b[0m\u001b[0mi\u001b[0m\u001b[1;33m+\u001b[0m\u001b[0mm\u001b[0m\u001b[1;33m\u001b[0m\u001b[1;33m\u001b[0m\u001b[0m\n",
      "\u001b[1;31mValueError\u001b[0m: invalid literal for int() with base 10: 'h'"
     ]
    }
   ],
   "source": [
    "s1=input(\"s1\\n\")\n",
    "s2=input(\"s2\\n\")\n",
    "count=0\n",
    "n=len(s1)\n",
    "m=len(s2)\n",
    "for i in s1:\n",
    "    if s2 in s1[int(i),int(i)+m]:\n",
    "        count=count+1\n",
    "        i=i+m\n",
    "else:\n",
    "    print(\"not found\")"
   ]
  },
  {
   "cell_type": "code",
   "execution_count": null,
   "id": "f8e616d9",
   "metadata": {},
   "outputs": [],
   "source": [
    "class car:\n",
    "    company=\"tata group\"\n",
    "    def __init__(self,model,color,price,year):\n",
    "        #(\" Car model is : \"+self.model)\n",
    "        self.model=model\n",
    "        self.color=color\n",
    "        self.__price=price\n",
    "        self.year=year\n",
    "        self.name=\"sunil\"\n",
    "    def price(self):\n",
    "        print(\"car price is : \"+str(self.__price))\n",
    "        print(self.__price)\n",
    "        return \"\"\n",
    "    def details():\n",
    "        print(\"car model\",end=\"\")\n",
    "        print(self.model)\n",
    "        \n",
    "   \n",
    "car1 = car(\"jagwar1\",\"balck\",1000000,2016)\n",
    "car2 = car(\"jagwar2\",\"balck\",10054000,2019)\n",
    "car3 = car(\"range rover\",\"balck\",10999900,2021)\n",
    "print(car1.model)\n",
    "print(car3.model)\n",
    "print(car1.model)\n",
    "print(car2.color)\n",
    "print(car2.price())\n",
    "print(car2.price)"
   ]
  },
  {
   "cell_type": "code",
   "execution_count": null,
   "id": "470b5865",
   "metadata": {},
   "outputs": [],
   "source": [
    "\n",
    "a=5\n",
    "print(type(a))\n",
    "b=str(a)\n",
    "print(b)"
   ]
  },
  {
   "cell_type": "code",
   "execution_count": null,
   "id": "fc625bc1",
   "metadata": {},
   "outputs": [],
   "source": [
    "a=\"1\"\n",
    "print(int(a)+3)\n",
    "\n"
   ]
  },
  {
   "cell_type": "code",
   "execution_count": 19,
   "id": "6f513f51",
   "metadata": {},
   "outputs": [
    {
     "name": "stdout",
     "output_type": "stream",
     "text": [
      "0,1,1,2,3,5,8,13,21,34,55,89"
     ]
    }
   ],
   "source": [
    "#program for fabonacci series\n",
    "nn=0\n",
    "nn1=0\n",
    "nn2=1\n",
    "def fab(i):\n",
    "    nn=0\n",
    "    nn1=0\n",
    "    nn2=1\n",
    "    while i>0:\n",
    "        nn=nn1+nn2\n",
    "        print(\",\"+str(nn),end=\"\")\n",
    "        nn1=nn2\n",
    "        nn2=nn\n",
    "        i=i-1\n",
    "print(str(nn1)+\",\"+str(nn2),end=\"\")\n",
    "fab(10)\n"
   ]
  },
  {
   "cell_type": "code",
   "execution_count": 26,
   "id": "f8552218",
   "metadata": {},
   "outputs": [
    {
     "name": "stdout",
     "output_type": "stream",
     "text": [
      "yeas leap year\n"
     ]
    }
   ],
   "source": [
    "def leap(year):\n",
    "    if year%400==0 and year%100==0 and year%4==0:\n",
    "        print(\"yeas leap year\")\n",
    "    else:\n",
    "        print(\"no, not a  leap year\")\n",
    "leap(2000)"
   ]
  },
  {
   "cell_type": "code",
   "execution_count": 33,
   "id": "3aac2bb2",
   "metadata": {},
   "outputs": [
    {
     "data": {
      "text/plain": [
       "25"
      ]
     },
     "execution_count": 33,
     "metadata": {},
     "output_type": "execute_result"
    }
   ],
   "source": [
    " def rev(n):\n",
    "        for i in range(3):\n",
    "            res=0\n",
    "            n1=n%10\n",
    "            res=res*10+n1\n",
    "            n=n//10\n",
    "            return n\n",
    "rev(258)\n",
    "        "
   ]
  },
  {
   "cell_type": "code",
   "execution_count": 68,
   "id": "236cf04e",
   "metadata": {},
   "outputs": [
    {
     "name": "stdout",
     "output_type": "stream",
     "text": [
      "color of car is : black\n",
      "Alloy of the car is : bulid-in\n",
      "company is : mahindra\n",
      "all specification will be shown here\n",
      "type of alloy :default-chorma\n",
      "type of driving : heavy driver\n",
      "name of the company : mahindra\n"
     ]
    }
   ],
   "source": [
    "class car1:\n",
    "    def __init__(self1,company=\"Great-TATA\",name=\"default-Range Rover\",model=\"default-dicovery\"):\n",
    "        self1.company=company\n",
    "        self1.name=name\n",
    "        self1.model=model\n",
    "        def output(self1):\n",
    "            print(\"{1} is the product of {0} with model name : {2}\".format(self1.company,self1.name,self1.model))\n",
    "        r\n",
    "class car2:\n",
    "    def __init__(self,driver=\"heavy driver\"):\n",
    "        self.driver=driver\n",
    "class looking(car1):\n",
    "    def __init__(self,color=\"default-Black\",alloy=\"default-chorma\"):\n",
    "        self.color=color\n",
    "        self.alloy=alloy\n",
    "        company=\"mahindra\"\n",
    "        name=\"bolero\"\n",
    "        model=\"eco\"\n",
    "        \n",
    "        car1.__init__(self,company,name,model)\n",
    "    def look(self):\n",
    "        print(\"color of car is : \"+self.color)\n",
    "        print(\"Alloy of the car is : \"+self.alloy)\n",
    "        print(\"company is : \"+self.company)\n",
    "class typeprice(looking):\n",
    "    def __init__(me,cartype,price):\n",
    "        me.cartype1=cartype\n",
    "        me.price1=price\n",
    "    def output(me):\n",
    "        print(me.cartype1)\n",
    "        print(me.price1)\n",
    "        car1.__init__(me)\n",
    "        print(me.company)\n",
    "        looking.__init__(me,\"black\",\"chorma\")\n",
    "        looking.look(me)\n",
    "class allinone(looking,car2):\n",
    "    def __init__(me):\n",
    "        print(\"all specification will be shown here\")\n",
    "        car2.__init__(me)\n",
    "        looking.__init__(me)\n",
    "        print(\"type of alloy :\"+me.alloy)\n",
    "        print(\"type of driving : \"+me.driver)\n",
    "        print(\"name of the company : \"+me.company)\n",
    "        \n",
    "        \n",
    "car11=car1(\"TaTa Group\",\"range rover\",\"model1\")\n",
    "car12=car1(\"anand mahindra\",\"bolero\",\"maxi\")\n",
    "look1=looking(\"black\",\"bulid-in\")\n",
    "car13=car1()\n",
    "look1.look()\n",
    "allinone1=allinone()\n",
    "tp1=typeprice(\"suv\",5000000)"
   ]
  },
  {
   "cell_type": "code",
   "execution_count": null,
   "id": "9fbce725",
   "metadata": {},
   "outputs": [],
   "source": [
    ",company,name,model\n",
    ",\"anand mahindra\",\"bolero\",\"maxi\""
   ]
  }
 ],
 "metadata": {
  "kernelspec": {
   "display_name": "Python 3",
   "language": "python",
   "name": "python3"
  },
  "language_info": {
   "codemirror_mode": {
    "name": "ipython",
    "version": 3
   },
   "file_extension": ".py",
   "mimetype": "text/x-python",
   "name": "python",
   "nbconvert_exporter": "python",
   "pygments_lexer": "ipython3",
   "version": "3.8.5"
  }
 },
 "nbformat": 4,
 "nbformat_minor": 5
}
